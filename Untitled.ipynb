{
 "cells": [
  {
   "cell_type": "code",
   "execution_count": 11,
   "metadata": {},
   "outputs": [
    {
     "data": {
      "text/html": [
       "<div>\n",
       "<style scoped>\n",
       "    .dataframe tbody tr th:only-of-type {\n",
       "        vertical-align: middle;\n",
       "    }\n",
       "\n",
       "    .dataframe tbody tr th {\n",
       "        vertical-align: top;\n",
       "    }\n",
       "\n",
       "    .dataframe thead th {\n",
       "        text-align: right;\n",
       "    }\n",
       "</style>\n",
       "<table border=\"1\" class=\"dataframe\">\n",
       "  <thead>\n",
       "    <tr style=\"text-align: right;\">\n",
       "      <th></th>\n",
       "      <th>дата отгрузки;Пункт назначения;ТЦ;кол-во мест;Факт. вес (кг);Объем (м3)</th>\n",
       "    </tr>\n",
       "  </thead>\n",
       "  <tbody>\n",
       "    <tr>\n",
       "      <th>02.01.2021;Челябинск;LEGO_ЧЛБ_РОДНИК;97;337;3</th>\n",
       "      <td>9.0</td>\n",
       "    </tr>\n",
       "    <tr>\n",
       "      <th>02.01.2021;Челябинск;RSTR_ЧЛБ_АЛМАЗ;4;71;0</th>\n",
       "      <td>3.0</td>\n",
       "    </tr>\n",
       "    <tr>\n",
       "      <th>02.01.2021;Челябинск;RSTR_ЧЛБ_РОДНИК;5;89;0</th>\n",
       "      <td>3.0</td>\n",
       "    </tr>\n",
       "    <tr>\n",
       "      <th>02.01.2021;Челябинск;SMSG_ЧЛБ_АЛМАЗ;2;36;0</th>\n",
       "      <td>7.0</td>\n",
       "    </tr>\n",
       "    <tr>\n",
       "      <th>02.01.2021;Челябинск;SMSG_ЧЛБ_ГОРКИ;3;54;0</th>\n",
       "      <td>9.0</td>\n",
       "    </tr>\n",
       "  </tbody>\n",
       "</table>\n",
       "</div>"
      ],
      "text/plain": [
       "                                               дата отгрузки;Пункт назначения;ТЦ;кол-во мест;Факт. вес (кг);Объем (м3)\n",
       "02.01.2021;Челябинск;LEGO_ЧЛБ_РОДНИК;97;337;3                                                9.0                      \n",
       "02.01.2021;Челябинск;RSTR_ЧЛБ_АЛМАЗ;4;71;0                                                   3.0                      \n",
       "02.01.2021;Челябинск;RSTR_ЧЛБ_РОДНИК;5;89;0                                                  3.0                      \n",
       "02.01.2021;Челябинск;SMSG_ЧЛБ_АЛМАЗ;2;36;0                                                   7.0                      \n",
       "02.01.2021;Челябинск;SMSG_ЧЛБ_ГОРКИ;3;54;0                                                   9.0                      "
      ]
     },
     "execution_count": 11,
     "metadata": {},
     "output_type": "execute_result"
    }
   ],
   "source": [
    "import pandas as pd\n",
    "df = pd.read_csv('DF_dip.csv', encoding='IBM866') \n",
    "df.head()"
   ]
  },
  {
   "cell_type": "code",
   "execution_count": 10,
   "metadata": {},
   "outputs": [
    {
     "data": {
      "text/plain": [
       "{'encoding': 'IBM866',\n",
       " 'confidence': 0.42184157925074695,\n",
       " 'language': 'Russian'}"
      ]
     },
     "execution_count": 10,
     "metadata": {},
     "output_type": "execute_result"
    }
   ],
   "source": [
    "import chardet\n",
    "with open(df, 'rb') as rawdata:\n",
    "    result = chardet.detect(rawdata.read(100000))\n",
    "result"
   ]
  }
 ],
 "metadata": {
  "kernelspec": {
   "display_name": "Python 3",
   "language": "python",
   "name": "python3"
  },
  "language_info": {
   "codemirror_mode": {
    "name": "ipython",
    "version": 3
   },
   "file_extension": ".py",
   "mimetype": "text/x-python",
   "name": "python",
   "nbconvert_exporter": "python",
   "pygments_lexer": "ipython3",
   "version": "3.8.5"
  }
 },
 "nbformat": 4,
 "nbformat_minor": 4
}
