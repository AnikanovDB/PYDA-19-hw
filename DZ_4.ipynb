{
 "cells": [
  {
   "cell_type": "code",
   "execution_count": 143,
   "metadata": {},
   "outputs": [
    {
     "name": "stdout",
     "output_type": "stream",
     "text": [
      "Введите командуl\n",
      "№: 2207 876234 тип: passport владелец: Василий Гупкин полка хранения: 1\n",
      "№: 11-2 тип: invoice владелец: Геннадий Покемонов полка хранения: 1\n",
      "№: 10006 тип: insurance владелец: Аристарх Павлов полка хранения: 2\n",
      "Введите командуq\n"
     ]
    }
   ],
   "source": [
    "documents = [\n",
    "{'type': 'passport', 'number': '2207 876234', 'name': 'Василий Гупкин'},\n",
    "{'type': 'invoice', 'number': '11-2', 'name': 'Геннадий Покемонов'},\n",
    "{'type': 'insurance', 'number': '10006', 'name': 'Аристарх Павлов'}\n",
    "]\n",
    "directories = {\n",
    "'1': ['2207 876234', '11-2'],\n",
    "'2': ['10006'],\n",
    "'3': []\n",
    "}\n",
    "\n",
    "# Пункт 1. Пользователь по команде “p” может узнать владельца документа по его номеру\n",
    "def vladelec():\n",
    "    num = input(\"Введите номер документа:\")\n",
    "    for dic in documents:\n",
    "        if \"number\" in dic.keys() and dic[\"number\"] == num:\n",
    "            print(\"Владелец документа:\", dic[\"name\"])\n",
    "        elif dic[\"number\"] != num:\n",
    "             print(\"Документ не найден в базе\")\n",
    "                \n",
    "# Пункт 2. Пользователь по команде “s” может по номеру документа узнать на какой полке он хранится    \n",
    "def polka():\n",
    "    num = input(\"Введите номер документа:\")\n",
    "    for i in directories:\n",
    "        if num in directories[i]:\n",
    "             print(\"Документ хранится на полке:\",i)\n",
    "        elif num not in directories[i]:\n",
    "             print(\"Документ не найден в базе\")\n",
    "                \n",
    "# Пункт 3. Пользователь по команде “l” может увидеть полную информацию по всем документам\n",
    "def vse():\n",
    "    for shelf, cont in directories.items():\n",
    "        for doc in documents:\n",
    "            if doc[\"number\"] in cont:\n",
    "                print(\"№:\", doc['number'], \"тип:\", doc['type'], \"владелец:\", doc['name'], \"полка хранения:\", shelf)\n",
    "                \n",
    "# Пункт 4. Пользователь по команде “as” может добавить новую полку\n",
    "def dop_polka():\n",
    "    num = input(\"Введите номер полки:\")\n",
    "    if num in directories:\n",
    "        print(\"Такая полка уже существует. Текущий перечень полок:\" + ','.join(directories.keys()))\n",
    "    elif num not in directories:\n",
    "        directories.setdefault(num,[])\n",
    "        print(\"Полка добавлена. Текущий перечень полок:\" + ','.join(directories.keys()))\n",
    "\n",
    "#Пункт 5. Пользователь по команде “ds” может удалить существующую полку из данных (только если она пустая)\n",
    "def del_polka():\n",
    "    num = input(\"Введите номер полки:\")\n",
    "    if num in directories:\n",
    "        if len(directories[num]) > 0:\n",
    "            print('На полке есть документы, удалите их перед удалением полки. Текущий перечень полок: ' + ', '.join(directories.keys()))\n",
    "        else:\n",
    "            del directories[num]\n",
    "            print('Полка удалена. Текущий перечень полок: ' + ', '.join(directories.keys()))\n",
    "    else:\n",
    "        print ('Такой полки не существует. Текущий перечень полок:' + ', '.join(directories.keys()))\n",
    "\n",
    "# Словарь функций        \n",
    "cmd_dict = {'p': vladelec, \n",
    "            's':polka,\n",
    "            'l':vse,\n",
    "            'as':dop_polka,\n",
    "            'ds':del_polka\n",
    "           } \n",
    "#Цикл комманд\n",
    "while True:\n",
    "    cmd = input('Введите команду')\n",
    "    if cmd in cmd_dict.keys():\n",
    "        cmd_dict[cmd]()\n",
    "    elif cmd == 'q':\n",
    "            break\n",
    "  "
   ]
  }
 ],
 "metadata": {
  "kernelspec": {
   "display_name": "Python 3",
   "language": "python",
   "name": "python3"
  },
  "language_info": {
   "codemirror_mode": {
    "name": "ipython",
    "version": 3
   },
   "file_extension": ".py",
   "mimetype": "text/x-python",
   "name": "python",
   "nbconvert_exporter": "python",
   "pygments_lexer": "ipython3",
   "version": "3.8.5"
  }
 },
 "nbformat": 4,
 "nbformat_minor": 4
}
