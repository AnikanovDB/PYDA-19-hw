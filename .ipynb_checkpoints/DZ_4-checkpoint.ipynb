{
 "cells": [
  {
   "cell_type": "code",
   "execution_count": 13,
   "metadata": {},
   "outputs": [],
   "source": [
    "documents = [\n",
    "{'type': 'passport', 'number': '2207 876234', 'name': 'Василий Гупкин'},\n",
    "{'type': 'invoice', 'number': '11-2', 'name': 'Геннадий Покемонов'},\n",
    "{'type': 'insurance', 'number': '10006', 'name': 'Аристарх Павлов'}\n",
    "]\n",
    "directories = {\n",
    "'1': ['2207 876234', '11-2'],\n",
    "'2': ['10006'],\n",
    "'3': []\n",
    "}\n",
    "\n",
    "# Пункт 1. Пользователь по команде “p” может узнать владельца документа по его номеру\n",
    "def doc_master():\n",
    "    num = input(\"Введите номер документа:\")\n",
    "    for dic in documents:\n",
    "        if \"number\" in dic.keys() and dic[\"number\"] == num:\n",
    "            return print(\"Владелец документа:\", dic[\"name\"])\n",
    "    return print(\"Документ не найден в базе\")\n",
    "                \n",
    "# Пункт 2. Пользователь по команде “s” может по номеру документа узнать на какой полке он хранится    \n",
    "def shelf():\n",
    "    num = input(\"Введите номер документа:\")\n",
    "    for i in directories:\n",
    "        if num in directories[i]:\n",
    "             return print(\"Документ хранится на полке:\",i)\n",
    "    return print(\"Документ не найден в базе\")\n",
    "                \n",
    "# Пункт 3. Пользователь по команде “l” может увидеть полную информацию по всем документам\n",
    "def all_data():\n",
    "    for shelf, cont in directories.items():\n",
    "        for doc in documents:\n",
    "            if doc[\"number\"] in cont:\n",
    "                print(\"№:\", doc['number'], \"тип:\", doc['type'], \"владелец:\", doc['name'], \"полка хранения:\", shelf)\n",
    "                \n",
    "# Пункт 4. Пользователь по команде “as” может добавить новую полку\n",
    "def new_shelf():\n",
    "    num = input(\"Введите номер полки:\")\n",
    "    if num in directories:\n",
    "        print(\"Такая полка уже существует. Текущий перечень полок:\" + ','.join(directories.keys()))\n",
    "    elif num not in directories:\n",
    "        directories.setdefault(num,[])\n",
    "        print(\"Полка добавлена. Текущий перечень полок:\" + ','.join(directories.keys()))\n",
    "\n",
    "#Пункт 5. Пользователь по команде “ds” может удалить существующую полку из данных (только если она пустая)\n",
    "def del_shelf():\n",
    "    num = input(\"Введите номер полки:\")\n",
    "    if num in directories:\n",
    "        if len(directories[num]) > 0:\n",
    "            print('На полке есть документы, удалите их перед удалением полки. Текущий перечень полок: ' + ', '.join(directories.keys()))\n",
    "        else:\n",
    "            del directories[num]\n",
    "            print('Полка удалена. Текущий перечень полок: ' + ', '.join(directories.keys()))\n",
    "    else:\n",
    "        print ('Такой полки не существует. Текущий перечень полок:' + ', '.join(directories.keys()))\n",
    "\n",
    "# Словарь функций        \n",
    "cmd_dict = {'p': doc_master, \n",
    "            's':shelf,\n",
    "            'l':all_data,\n",
    "            'as':new_shelf,\n",
    "            'ds':del_shelf\n",
    "           } \n",
    "#Цикл комманд\n",
    "def action():\n",
    "    while True:\n",
    "        cmd = input('Введите команду')\n",
    "        if cmd in cmd_dict.keys():\n",
    "            cmd_dict[cmd]()\n",
    "        elif cmd == 'q':\n",
    "                break\n"
   ]
  },
  {
   "cell_type": "code",
   "execution_count": 14,
   "metadata": {},
   "outputs": [
    {
     "name": "stdout",
     "output_type": "stream",
     "text": [
      "Введите командуs\n",
      "Введите номер документа:10006\n",
      "Документ хранится на полке: 2\n",
      "Введите командуp\n",
      "Введите номер документа:11-2\n",
      "Владелец документа: Геннадий Покемонов\n",
      "Введите командуp\n",
      "Введите номер документа:1212\n",
      "Документ не найден в базе\n",
      "Введите командуq\n"
     ]
    }
   ],
   "source": [
    "action()"
   ]
  }
 ],
 "metadata": {
  "kernelspec": {
   "display_name": "Python 3",
   "language": "python",
   "name": "python3"
  },
  "language_info": {
   "codemirror_mode": {
    "name": "ipython",
    "version": 3
   },
   "file_extension": ".py",
   "mimetype": "text/x-python",
   "name": "python",
   "nbconvert_exporter": "python",
   "pygments_lexer": "ipython3",
   "version": "3.8.5"
  }
 },
 "nbformat": 4,
 "nbformat_minor": 4
}
