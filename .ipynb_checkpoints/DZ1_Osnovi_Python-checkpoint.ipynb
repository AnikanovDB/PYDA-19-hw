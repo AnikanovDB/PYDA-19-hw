{
 "cells": [
  {
   "cell_type": "code",
   "execution_count": null,
   "metadata": {},
   "outputs": [],
   "source": [
    "# 1 задание \n",
    "# Даны 2 переменных, в которых хранятся строки произвольной длины: phrase_1 и phrase_2. \n",
    "# Напишите код, который проверяет какая из этих строк длиннее."
   ]
  },
  {
   "cell_type": "code",
   "execution_count": 1,
   "metadata": {},
   "outputs": [
    {
     "name": "stdout",
     "output_type": "stream",
     "text": [
      "Фраза 2 длиннее фразы 1\n"
     ]
    }
   ],
   "source": [
    "phrase_1 = '640Кб должно хватить для любых задач. Билл Гейтс (по легенде)'\n",
    "phrase_2 = 'Насколько проще было бы писать программы, если бы не заказчики'\n",
    "if len(phrase_1) > len(phrase_2):\n",
    "    print('Фраза 1 длиннее фразы 2')\n",
    "elif len(phrase_1) < len(phrase_2):\n",
    "    print('Фраза 2 длиннее фразы 1')\n",
    "elif len(phrase_1) == len(phrase_2):\n",
    "    print('Фразы равной длины')"
   ]
  },
  {
   "cell_type": "code",
   "execution_count": null,
   "metadata": {},
   "outputs": [],
   "source": [
    "# Задание 2\n",
    "# Дана переменная, в которой хранится четырехзначное число (год). \n",
    "# Необходимо написать программу, которая выведет, является ли данный год високосным или обычным."
   ]
  },
  {
   "cell_type": "code",
   "execution_count": 14,
   "metadata": {},
   "outputs": [
    {
     "name": "stdout",
     "output_type": "stream",
     "text": [
      "високосный\n"
     ]
    }
   ],
   "source": [
    "year = 2020\n",
    "if year % 400 == 0:\n",
    "    print('високосный')\n",
    "elif year % 100 == 0:\n",
    "    print('не високосный')\n",
    "elif year % 4 == 0:\n",
    "    print('високосный')\n",
    "else:\n",
    "    print('не високосный')"
   ]
  },
  {
   "cell_type": "code",
   "execution_count": 15,
   "metadata": {},
   "outputs": [],
   "source": [
    "# Задание 3\n",
    "# Необходимо написать программу, которая будет запрашивать у пользователя месяц и дату рождения \n",
    "# и выводить соответствующий знак зодиака."
   ]
  },
  {
   "cell_type": "code",
   "execution_count": 29,
   "metadata": {},
   "outputs": [
    {
     "name": "stdout",
     "output_type": "stream",
     "text": [
      "Введите день30\n",
      "Введите месяцАвгуст\n",
      "Ваш знак зодиака:Дева\n"
     ]
    }
   ],
   "source": [
    "date_born = int(input('Введите день'))\n",
    "month_born = input('Введите месяц')\n",
    "if month_born == 'Январь' and date_born >= 20 and date_born <= 31:\n",
    "    print(\"Ваш знак зодиака:Водолей\")\n",
    "elif month_born == 'Февраль' and date_born >= 1 and date_born <= 18:\n",
    "    print(\"Ваш знак зодиака:Водолей\")\n",
    "elif  month_born == 'Февраль' and date_born >= 19 and date_born <= 28:\n",
    "    print(\"Ваш знак зодиака:Рыбы\")\n",
    "elif month_born == 'Март' and date_born >= 1 and date_born <= 20:\n",
    "    print(\"Ваш знак зодиака:Рыбы\")\n",
    "elif  month_born == 'Март' and date_born >= 21 and date_born <= 31:\n",
    "    print(\"Ваш знак зодиака:Овен\")\n",
    "elif month_born == 'Апрель' and date_born >= 1 and date_born <= 19:\n",
    "    print(\"Ваш знак зодиака:Овен\")\n",
    "elif  month_born == 'Апрель' and date_born >= 20 and date_born <= 30:\n",
    "    print(\"Ваш знак зодиака:Телец\")\n",
    "elif month_born == 'Май' and date_born >= 1 and date_born <= 20:\n",
    "    print(\"Ваш знак зодиака:Телец\")\n",
    "elif  month_born == 'Май' and date_born >= 20 and date_born <= 31:\n",
    "    print(\"Ваш знак зодиака:Близнецы\")\n",
    "elif month_born == 'Июнь' and date_born >= 1 and date_born <= 20:\n",
    "    print(\"Ваш знак зодиака:Близнецы\")\n",
    "elif  month_born == 'Июнь' and date_born >= 21 and date_born <= 30:\n",
    "    print(\"Ваш знак зодиака:Рак\")\n",
    "elif month_born == 'Июль' and date_born >= 1 and date_born <= 22:\n",
    "    print(\"Ваш знак зодиака:Рак\")\n",
    "elif  month_born == 'Июль' and date_born >= 23 and date_born <= 31:\n",
    "    print(\"Ваш знак зодиака:Лев\")\n",
    "elif month_born == 'Август' and date_born >= 1 and date_born <= 22:\n",
    "    print(\"Ваш знак зодиака:Лев\")\n",
    "elif  month_born == 'Август' and date_born >= 23 and date_born <= 31:\n",
    "    print(\"Ваш знак зодиака:Дева\")\n",
    "elif month_born == 'Сентябрь' and date_born >= 1 and date_born <= 22:\n",
    "    print(\"Ваш знак зодиака:Дева\")\n",
    "elif  month_born == 'Сентябрь' and date_born >= 23 and date_born <= 30:\n",
    "    print(\"Ваш знак зодиака:Весы\")\n",
    "elif month_born == 'Октябрь' and date_born >= 1 and date_born <= 22:\n",
    "    print(\"Ваш знак зодиака:Весы\")\n",
    "elif  month_born == 'Октябрь' and date_born >= 23 and date_born <= 31:\n",
    "    print(\"Ваш знак зодиака:Скорпион\")\n",
    "elif month_born == 'Ноябрь' and date_born >= 1 and date_born <= 21:\n",
    "    print(\"Ваш знак зодиака:Скорпион\")\n",
    "elif  month_born == 'Ноябрь' and date_born >= 22 and date_born <= 30:\n",
    "    print(\"Ваш знак зодиака:Стрелец\")\n",
    "elif month_born == 'Декабрь' and date_born >= 1 and date_born <= 21:\n",
    "    print(\"Ваш знак зодиака:Стрелец\")\n",
    "elif  month_born == 'Декабрь' and date_born >= 22 and date_born <= 31:\n",
    "    print(\"Ваш знак зодиака:Козерог\")\n",
    "elif month_born == 'Январь' and date_born >= 1 and date_born <= 19:\n",
    "    print(\"Ваш знак зодиака:Козерог\")"
   ]
  },
  {
   "cell_type": "code",
   "execution_count": 30,
   "metadata": {},
   "outputs": [],
   "source": [
    "# Задание 4\n",
    "# Вам нужно написать программу для подбора упаковок по размерам товара. Размеры хранятся в переменных (в сантиметрах):"
   ]
  },
  {
   "cell_type": "code",
   "execution_count": 41,
   "metadata": {},
   "outputs": [
    {
     "name": "stdout",
     "output_type": "stream",
     "text": [
      "Упаковка для лыж\n"
     ]
    }
   ],
   "source": [
    "width = 10\n",
    "length = 205\n",
    "height = 5\n",
    "if width < 15 and length <15 and height < 15:\n",
    "    print(\"Коробка №1\")\n",
    "elif width > 15 and width < 50 or length > 15 and length <50 or height > 15 and height <50 :\n",
    "    print(\"Коробка №2\")\n",
    "elif length > 200 :\n",
    "    print(\"Упаковка для лыж\")\n",
    "else:\n",
    "    print(\"Стандартная коробка №3\")"
   ]
  },
  {
   "cell_type": "code",
   "execution_count": 43,
   "metadata": {},
   "outputs": [],
   "source": [
    "# Задание 5 (необязательное)\n",
    "# Дана переменная, в которой хранится шестизначное число (номер проездного билета). \n",
    "# Напишите программу, которая будет определять, является ли данный билет “счастливым”. \n",
    "# Билет считается счастливым, если сумма первых трех цифр совпадает с суммой последних трех цифр номера"
   ]
  },
  {
   "cell_type": "code",
   "execution_count": 2,
   "metadata": {},
   "outputs": [
    {
     "name": "stdout",
     "output_type": "stream",
     "text": [
      "Счастливый билет\n"
     ]
    }
   ],
   "source": [
    "n=123321\n",
    "d1=n%1000000//100000\n",
    "d2=n%100000//10000\n",
    "d3=n%10000//1000\n",
    "d4=n%1000//100\n",
    "d5=n%100//10\n",
    "d6=n%10\n",
    "if d1+d2+d3==d4+d5+d6:\n",
    "    print('Счастливый билет')\n",
    "else:\n",
    "    print('Неасчастливый билет')"
   ]
  },
  {
   "cell_type": "code",
   "execution_count": null,
   "metadata": {},
   "outputs": [],
   "source": [
    "# Задание 6 (необязательное)\n",
    "# Напишите программу, которая сможет вычислять площади трех фигур (круг, треугольник и прямоугольник). \n",
    "# Тип фигуры запрашиваем через пользовательский ввод, после чего делаем запрос характеристик фигуры:"
   ]
  },
  {
   "cell_type": "code",
   "execution_count": 1,
   "metadata": {},
   "outputs": [
    {
     "name": "stdout",
     "output_type": "stream",
     "text": [
      "Введите фигуруКруг\n",
      "Введите радиус10\n",
      "Площадь 314.15999999999997\n"
     ]
    }
   ],
   "source": [
    "from math import sqrt\n",
    "figure = input('Введите фигуру')\n",
    "if figure == \"Круг\":\n",
    "    radius = int(input('Введите радиус'))\n",
    "    print(\"Площадь\", (radius**2)*3.1416)\n",
    "elif figure == \"Треугольник\":\n",
    "    tra = int(input('Введите длину стороны A'))\n",
    "    trb = int(input('Введите длину стороны B'))\n",
    "    trc = int(input('Введите длину стороны C'))\n",
    "    print(\"Площадь\", sqrt(((tra+trb+trc)/2)*(((tra+trb+trc)/2)-tra)*(((tra+trb+trc)/2)-trb)*(((tra+trb+trc)/2)-trc)))\n",
    "elif figure == \"Прямоугольник\": \n",
    "    pra = int(input('Введите длину стороны A'))\n",
    "    prb = int(input('Введите длину стороны B'))\n",
    "    print(\"Площадь\", pra*prb)"
   ]
  }
 ],
 "metadata": {
  "kernelspec": {
   "display_name": "Python 3",
   "language": "python",
   "name": "python3"
  },
  "language_info": {
   "codemirror_mode": {
    "name": "ipython",
    "version": 3
   },
   "file_extension": ".py",
   "mimetype": "text/x-python",
   "name": "python",
   "nbconvert_exporter": "python",
   "pygments_lexer": "ipython3",
   "version": "3.8.5"
  }
 },
 "nbformat": 4,
 "nbformat_minor": 4
}
