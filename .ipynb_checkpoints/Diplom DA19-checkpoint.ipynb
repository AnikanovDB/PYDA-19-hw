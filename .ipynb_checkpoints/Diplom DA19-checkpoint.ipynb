{
 "cells": [
  {
   "cell_type": "code",
   "execution_count": 28,
   "metadata": {},
   "outputs": [
    {
     "data": {
      "text/html": [
       "<div>\n",
       "<style scoped>\n",
       "    .dataframe tbody tr th:only-of-type {\n",
       "        vertical-align: middle;\n",
       "    }\n",
       "\n",
       "    .dataframe tbody tr th {\n",
       "        vertical-align: top;\n",
       "    }\n",
       "\n",
       "    .dataframe thead th {\n",
       "        text-align: right;\n",
       "    }\n",
       "</style>\n",
       "<table border=\"1\" class=\"dataframe\">\n",
       "  <thead>\n",
       "    <tr style=\"text-align: right;\">\n",
       "      <th></th>\n",
       "      <th>дата отгрузки</th>\n",
       "      <th>Пункт назначения</th>\n",
       "      <th>ТЦ</th>\n",
       "      <th>кол-во мест</th>\n",
       "      <th>Факт. вес (кг)</th>\n",
       "      <th>Объем (м3)</th>\n",
       "    </tr>\n",
       "  </thead>\n",
       "  <tbody>\n",
       "    <tr>\n",
       "      <th>0</th>\n",
       "      <td>2021-01-02</td>\n",
       "      <td>Челябинск</td>\n",
       "      <td>LEGO_ЧЛБ_РОДНИК</td>\n",
       "      <td>97.0</td>\n",
       "      <td>337.0</td>\n",
       "      <td>3.9</td>\n",
       "    </tr>\n",
       "    <tr>\n",
       "      <th>1</th>\n",
       "      <td>2021-01-02</td>\n",
       "      <td>Челябинск</td>\n",
       "      <td>RSTR_ЧЛБ_АЛМАЗ</td>\n",
       "      <td>4.0</td>\n",
       "      <td>71.0</td>\n",
       "      <td>0.3</td>\n",
       "    </tr>\n",
       "    <tr>\n",
       "      <th>2</th>\n",
       "      <td>2021-01-02</td>\n",
       "      <td>Челябинск</td>\n",
       "      <td>RSTR_ЧЛБ_РОДНИК</td>\n",
       "      <td>5.0</td>\n",
       "      <td>89.0</td>\n",
       "      <td>0.3</td>\n",
       "    </tr>\n",
       "    <tr>\n",
       "      <th>3</th>\n",
       "      <td>2021-01-02</td>\n",
       "      <td>Челябинск</td>\n",
       "      <td>SMSG_ЧЛБ_АЛМАЗ</td>\n",
       "      <td>2.0</td>\n",
       "      <td>36.0</td>\n",
       "      <td>0.7</td>\n",
       "    </tr>\n",
       "    <tr>\n",
       "      <th>4</th>\n",
       "      <td>2021-01-02</td>\n",
       "      <td>Челябинск</td>\n",
       "      <td>SMSG_ЧЛБ_ГОРКИ</td>\n",
       "      <td>3.0</td>\n",
       "      <td>54.0</td>\n",
       "      <td>0.9</td>\n",
       "    </tr>\n",
       "  </tbody>\n",
       "</table>\n",
       "</div>"
      ],
      "text/plain": [
       "  дата отгрузки Пункт назначения               ТЦ  кол-во мест  \\\n",
       "0    2021-01-02        Челябинск  LEGO_ЧЛБ_РОДНИК         97.0   \n",
       "1    2021-01-02        Челябинск   RSTR_ЧЛБ_АЛМАЗ          4.0   \n",
       "2    2021-01-02        Челябинск  RSTR_ЧЛБ_РОДНИК          5.0   \n",
       "3    2021-01-02        Челябинск   SMSG_ЧЛБ_АЛМАЗ          2.0   \n",
       "4    2021-01-02        Челябинск   SMSG_ЧЛБ_ГОРКИ          3.0   \n",
       "\n",
       "   Факт. вес (кг)  Объем (м3)  \n",
       "0           337.0         3.9  \n",
       "1            71.0         0.3  \n",
       "2            89.0         0.3  \n",
       "3            36.0         0.7  \n",
       "4            54.0         0.9  "
      ]
     },
     "execution_count": 28,
     "metadata": {},
     "output_type": "execute_result"
    }
   ],
   "source": [
    "import pandas as pd\n",
    "df = pd.read_excel('DF_dip.xlsx', sheet_name='Data')\n",
    "df.head()"
   ]
  },
  {
   "cell_type": "code",
   "execution_count": 29,
   "metadata": {},
   "outputs": [
    {
     "name": "stdout",
     "output_type": "stream",
     "text": [
      "<class 'pandas.core.frame.DataFrame'>\n",
      "RangeIndex: 3522 entries, 0 to 3521\n",
      "Data columns (total 6 columns):\n",
      " #   Column            Non-Null Count  Dtype         \n",
      "---  ------            --------------  -----         \n",
      " 0   дата отгрузки     3522 non-null   datetime64[ns]\n",
      " 1   Пункт назначения  3522 non-null   object        \n",
      " 2   ТЦ                3522 non-null   object        \n",
      " 3   кол-во мест       3521 non-null   float64       \n",
      " 4   Факт. вес (кг)    3521 non-null   float64       \n",
      " 5   Объем (м3)        3521 non-null   float64       \n",
      "dtypes: datetime64[ns](1), float64(3), object(2)\n",
      "memory usage: 165.2+ KB\n"
     ]
    }
   ],
   "source": [
    "df.info()"
   ]
  },
  {
   "cell_type": "code",
   "execution_count": 30,
   "metadata": {},
   "outputs": [
    {
     "data": {
      "text/html": [
       "<div>\n",
       "<style scoped>\n",
       "    .dataframe tbody tr th:only-of-type {\n",
       "        vertical-align: middle;\n",
       "    }\n",
       "\n",
       "    .dataframe tbody tr th {\n",
       "        vertical-align: top;\n",
       "    }\n",
       "\n",
       "    .dataframe thead th {\n",
       "        text-align: right;\n",
       "    }\n",
       "</style>\n",
       "<table border=\"1\" class=\"dataframe\">\n",
       "  <thead>\n",
       "    <tr style=\"text-align: right;\">\n",
       "      <th></th>\n",
       "      <th>дата отгрузки</th>\n",
       "      <th>Пункт назначения</th>\n",
       "      <th>ТЦ</th>\n",
       "      <th>кол-во мест</th>\n",
       "      <th>Факт. вес (кг)</th>\n",
       "      <th>Объем (м3)</th>\n",
       "    </tr>\n",
       "  </thead>\n",
       "  <tbody>\n",
       "    <tr>\n",
       "      <th>1705</th>\n",
       "      <td>2021-03-01</td>\n",
       "      <td>Сочи</td>\n",
       "      <td>Смыков Д.А.</td>\n",
       "      <td>NaN</td>\n",
       "      <td>NaN</td>\n",
       "      <td>NaN</td>\n",
       "    </tr>\n",
       "  </tbody>\n",
       "</table>\n",
       "</div>"
      ],
      "text/plain": [
       "     дата отгрузки Пункт назначения           ТЦ  кол-во мест  Факт. вес (кг)  \\\n",
       "1705    2021-03-01             Сочи  Смыков Д.А.          NaN             NaN   \n",
       "\n",
       "      Объем (м3)  \n",
       "1705         NaN  "
      ]
     },
     "execution_count": 30,
     "metadata": {},
     "output_type": "execute_result"
    }
   ],
   "source": [
    "df[df['Объем (м3)'].isnull()] "
   ]
  },
  {
   "cell_type": "code",
   "execution_count": 31,
   "metadata": {},
   "outputs": [
    {
     "name": "stdout",
     "output_type": "stream",
     "text": [
      "<class 'pandas.core.frame.DataFrame'>\n",
      "Int64Index: 3521 entries, 0 to 3521\n",
      "Data columns (total 6 columns):\n",
      " #   Column            Non-Null Count  Dtype         \n",
      "---  ------            --------------  -----         \n",
      " 0   дата отгрузки     3521 non-null   datetime64[ns]\n",
      " 1   Пункт назначения  3521 non-null   object        \n",
      " 2   ТЦ                3521 non-null   object        \n",
      " 3   кол-во мест       3521 non-null   float64       \n",
      " 4   Факт. вес (кг)    3521 non-null   float64       \n",
      " 5   Объем (м3)        3521 non-null   float64       \n",
      "dtypes: datetime64[ns](1), float64(3), object(2)\n",
      "memory usage: 192.6+ KB\n"
     ]
    }
   ],
   "source": [
    "df = df.drop(index=[1705])\n",
    "df.info()"
   ]
  },
  {
   "cell_type": "code",
   "execution_count": 32,
   "metadata": {},
   "outputs": [
    {
     "data": {
      "text/html": [
       "<div>\n",
       "<style scoped>\n",
       "    .dataframe tbody tr th:only-of-type {\n",
       "        vertical-align: middle;\n",
       "    }\n",
       "\n",
       "    .dataframe tbody tr th {\n",
       "        vertical-align: top;\n",
       "    }\n",
       "\n",
       "    .dataframe thead th {\n",
       "        text-align: right;\n",
       "    }\n",
       "</style>\n",
       "<table border=\"1\" class=\"dataframe\">\n",
       "  <thead>\n",
       "    <tr style=\"text-align: right;\">\n",
       "      <th></th>\n",
       "      <th>кол-во мест</th>\n",
       "      <th>Факт. вес (кг)</th>\n",
       "      <th>Объем (м3)</th>\n",
       "    </tr>\n",
       "  </thead>\n",
       "  <tbody>\n",
       "    <tr>\n",
       "      <th>count</th>\n",
       "      <td>3521.000000</td>\n",
       "      <td>3521.000000</td>\n",
       "      <td>3521.000000</td>\n",
       "    </tr>\n",
       "    <tr>\n",
       "      <th>mean</th>\n",
       "      <td>21.990628</td>\n",
       "      <td>140.841806</td>\n",
       "      <td>1.491536</td>\n",
       "    </tr>\n",
       "    <tr>\n",
       "      <th>std</th>\n",
       "      <td>27.680486</td>\n",
       "      <td>135.911906</td>\n",
       "      <td>1.371146</td>\n",
       "    </tr>\n",
       "    <tr>\n",
       "      <th>min</th>\n",
       "      <td>1.000000</td>\n",
       "      <td>1.000000</td>\n",
       "      <td>0.100000</td>\n",
       "    </tr>\n",
       "    <tr>\n",
       "      <th>25%</th>\n",
       "      <td>7.000000</td>\n",
       "      <td>67.000000</td>\n",
       "      <td>0.600000</td>\n",
       "    </tr>\n",
       "    <tr>\n",
       "      <th>50%</th>\n",
       "      <td>13.000000</td>\n",
       "      <td>111.000000</td>\n",
       "      <td>1.200000</td>\n",
       "    </tr>\n",
       "    <tr>\n",
       "      <th>75%</th>\n",
       "      <td>24.000000</td>\n",
       "      <td>176.000000</td>\n",
       "      <td>2.000000</td>\n",
       "    </tr>\n",
       "    <tr>\n",
       "      <th>max</th>\n",
       "      <td>296.000000</td>\n",
       "      <td>2546.000000</td>\n",
       "      <td>28.200000</td>\n",
       "    </tr>\n",
       "  </tbody>\n",
       "</table>\n",
       "</div>"
      ],
      "text/plain": [
       "       кол-во мест  Факт. вес (кг)   Объем (м3)\n",
       "count  3521.000000     3521.000000  3521.000000\n",
       "mean     21.990628      140.841806     1.491536\n",
       "std      27.680486      135.911906     1.371146\n",
       "min       1.000000        1.000000     0.100000\n",
       "25%       7.000000       67.000000     0.600000\n",
       "50%      13.000000      111.000000     1.200000\n",
       "75%      24.000000      176.000000     2.000000\n",
       "max     296.000000     2546.000000    28.200000"
      ]
     },
     "execution_count": 32,
     "metadata": {},
     "output_type": "execute_result"
    }
   ],
   "source": [
    "df.describe()"
   ]
  },
  {
   "cell_type": "code",
   "execution_count": 33,
   "metadata": {},
   "outputs": [
    {
     "data": {
      "text/html": [
       "<div>\n",
       "<style scoped>\n",
       "    .dataframe tbody tr th:only-of-type {\n",
       "        vertical-align: middle;\n",
       "    }\n",
       "\n",
       "    .dataframe tbody tr th {\n",
       "        vertical-align: top;\n",
       "    }\n",
       "\n",
       "    .dataframe thead th {\n",
       "        text-align: right;\n",
       "    }\n",
       "</style>\n",
       "<table border=\"1\" class=\"dataframe\">\n",
       "  <thead>\n",
       "    <tr style=\"text-align: right;\">\n",
       "      <th></th>\n",
       "      <th>дата отгрузки</th>\n",
       "      <th>Пункт назначения</th>\n",
       "      <th>ТЦ</th>\n",
       "      <th>кол-во мест</th>\n",
       "      <th>Факт. вес (кг)</th>\n",
       "      <th>Объем (м3)</th>\n",
       "    </tr>\n",
       "  </thead>\n",
       "  <tbody>\n",
       "    <tr>\n",
       "      <th>453</th>\n",
       "      <td>2021-01-20</td>\n",
       "      <td>Челябинск</td>\n",
       "      <td>ЗАО \"Прайм Принт Челябинск\"</td>\n",
       "      <td>7.0</td>\n",
       "      <td>1865.0</td>\n",
       "      <td>3.5</td>\n",
       "    </tr>\n",
       "    <tr>\n",
       "      <th>809</th>\n",
       "      <td>2021-02-04</td>\n",
       "      <td>Иркутск</td>\n",
       "      <td>XIAM_ИРК_МОДНЫЙ_КВАРТАЛ</td>\n",
       "      <td>133.0</td>\n",
       "      <td>1175.0</td>\n",
       "      <td>9.7</td>\n",
       "    </tr>\n",
       "    <tr>\n",
       "      <th>1158</th>\n",
       "      <td>2021-02-19</td>\n",
       "      <td>Челябинск</td>\n",
       "      <td>ЗАО \"Прайм Принт Челябинск\"</td>\n",
       "      <td>7.0</td>\n",
       "      <td>1869.0</td>\n",
       "      <td>3.5</td>\n",
       "    </tr>\n",
       "    <tr>\n",
       "      <th>1604</th>\n",
       "      <td>2021-03-11</td>\n",
       "      <td>Красноярск</td>\n",
       "      <td>XIAM_КСК_ПЛАНЕТА</td>\n",
       "      <td>130.0</td>\n",
       "      <td>1401.0</td>\n",
       "      <td>13.2</td>\n",
       "    </tr>\n",
       "    <tr>\n",
       "      <th>1767</th>\n",
       "      <td>2021-03-18</td>\n",
       "      <td>Челябинск</td>\n",
       "      <td>ЗАО \"Прайм Принт Челябинск\"</td>\n",
       "      <td>8.0</td>\n",
       "      <td>2546.0</td>\n",
       "      <td>4.7</td>\n",
       "    </tr>\n",
       "    <tr>\n",
       "      <th>2580</th>\n",
       "      <td>2021-04-22</td>\n",
       "      <td>Челябинск</td>\n",
       "      <td>ЗАО \"Прайм Принт Челябинск\"</td>\n",
       "      <td>8.0</td>\n",
       "      <td>1887.0</td>\n",
       "      <td>3.7</td>\n",
       "    </tr>\n",
       "    <tr>\n",
       "      <th>3285</th>\n",
       "      <td>2021-05-22</td>\n",
       "      <td>Екатеринбург</td>\n",
       "      <td>RSTR_ЕБГ_ВЕЕР_МОЛЛ</td>\n",
       "      <td>147.0</td>\n",
       "      <td>1399.0</td>\n",
       "      <td>8.7</td>\n",
       "    </tr>\n",
       "    <tr>\n",
       "      <th>3287</th>\n",
       "      <td>2021-05-22</td>\n",
       "      <td>Екатеринбург</td>\n",
       "      <td>XIAM_ЕБГ_ВЕЕР_МОЛЛ</td>\n",
       "      <td>130.0</td>\n",
       "      <td>1238.0</td>\n",
       "      <td>9.5</td>\n",
       "    </tr>\n",
       "    <tr>\n",
       "      <th>3336</th>\n",
       "      <td>2021-05-24</td>\n",
       "      <td>Челябинск</td>\n",
       "      <td>ЗАО \"Прайм Принт Челябинск\"</td>\n",
       "      <td>8.0</td>\n",
       "      <td>1141.0</td>\n",
       "      <td>4.4</td>\n",
       "    </tr>\n",
       "    <tr>\n",
       "      <th>3352</th>\n",
       "      <td>2021-05-25</td>\n",
       "      <td>Екатеринбург</td>\n",
       "      <td>STBT_ЕБГ_ВЕЕР_МОЛЛ</td>\n",
       "      <td>296.0</td>\n",
       "      <td>2150.0</td>\n",
       "      <td>28.2</td>\n",
       "    </tr>\n",
       "    <tr>\n",
       "      <th>3477</th>\n",
       "      <td>2021-05-30</td>\n",
       "      <td>Пермь</td>\n",
       "      <td>RSTR_ПРМ_ПЛАНЕТА</td>\n",
       "      <td>148.0</td>\n",
       "      <td>1245.0</td>\n",
       "      <td>9.5</td>\n",
       "    </tr>\n",
       "  </tbody>\n",
       "</table>\n",
       "</div>"
      ],
      "text/plain": [
       "     дата отгрузки Пункт назначения                           ТЦ  кол-во мест  \\\n",
       "453     2021-01-20        Челябинск  ЗАО \"Прайм Принт Челябинск\"          7.0   \n",
       "809     2021-02-04          Иркутск      XIAM_ИРК_МОДНЫЙ_КВАРТАЛ        133.0   \n",
       "1158    2021-02-19        Челябинск  ЗАО \"Прайм Принт Челябинск\"          7.0   \n",
       "1604    2021-03-11       Красноярск             XIAM_КСК_ПЛАНЕТА        130.0   \n",
       "1767    2021-03-18        Челябинск  ЗАО \"Прайм Принт Челябинск\"          8.0   \n",
       "2580    2021-04-22        Челябинск  ЗАО \"Прайм Принт Челябинск\"          8.0   \n",
       "3285    2021-05-22     Екатеринбург           RSTR_ЕБГ_ВЕЕР_МОЛЛ        147.0   \n",
       "3287    2021-05-22     Екатеринбург           XIAM_ЕБГ_ВЕЕР_МОЛЛ        130.0   \n",
       "3336    2021-05-24        Челябинск  ЗАО \"Прайм Принт Челябинск\"          8.0   \n",
       "3352    2021-05-25     Екатеринбург           STBT_ЕБГ_ВЕЕР_МОЛЛ        296.0   \n",
       "3477    2021-05-30            Пермь             RSTR_ПРМ_ПЛАНЕТА        148.0   \n",
       "\n",
       "      Факт. вес (кг)  Объем (м3)  \n",
       "453           1865.0         3.5  \n",
       "809           1175.0         9.7  \n",
       "1158          1869.0         3.5  \n",
       "1604          1401.0        13.2  \n",
       "1767          2546.0         4.7  \n",
       "2580          1887.0         3.7  \n",
       "3285          1399.0         8.7  \n",
       "3287          1238.0         9.5  \n",
       "3336          1141.0         4.4  \n",
       "3352          2150.0        28.2  \n",
       "3477          1245.0         9.5  "
      ]
     },
     "execution_count": 33,
     "metadata": {},
     "output_type": "execute_result"
    }
   ],
   "source": [
    "df[df['Факт. вес (кг)']>1000]"
   ]
  },
  {
   "cell_type": "code",
   "execution_count": 100,
   "metadata": {},
   "outputs": [],
   "source": [
    "#n_df=pd.pivot_table(df,\n",
    "#               index=[\"дата отгрузки\"],\n",
    " #              values=[\"ТЦ\", \"кол-во мест\", \"Объем (м3)\"],\n",
    "  #             aggfunc={\"ТЦ\": len, \"кол-во мест\": sum, \"Объем (м3)\": sum})\n",
    "#n_df.head()"
   ]
  },
  {
   "cell_type": "code",
   "execution_count": 101,
   "metadata": {},
   "outputs": [],
   "source": [
    "# n_df['1 место'] = n_df['Объем (м3)']/n_df['кол-во мест']\n",
    "# n_df.head()"
   ]
  },
  {
   "cell_type": "code",
   "execution_count": 102,
   "metadata": {},
   "outputs": [
    {
     "data": {
      "text/html": [
       "<div>\n",
       "<style scoped>\n",
       "    .dataframe tbody tr th:only-of-type {\n",
       "        vertical-align: middle;\n",
       "    }\n",
       "\n",
       "    .dataframe tbody tr th {\n",
       "        vertical-align: top;\n",
       "    }\n",
       "\n",
       "    .dataframe thead th {\n",
       "        text-align: right;\n",
       "    }\n",
       "</style>\n",
       "<table border=\"1\" class=\"dataframe\">\n",
       "  <thead>\n",
       "    <tr style=\"text-align: right;\">\n",
       "      <th></th>\n",
       "      <th>Объем (м3)</th>\n",
       "      <th>ТЦ</th>\n",
       "    </tr>\n",
       "    <tr>\n",
       "      <th>дата отгрузки</th>\n",
       "      <th></th>\n",
       "      <th></th>\n",
       "    </tr>\n",
       "  </thead>\n",
       "  <tbody>\n",
       "    <tr>\n",
       "      <th>2021-01-02</th>\n",
       "      <td>46.2</td>\n",
       "      <td>50</td>\n",
       "    </tr>\n",
       "    <tr>\n",
       "      <th>2021-01-03</th>\n",
       "      <td>47.6</td>\n",
       "      <td>37</td>\n",
       "    </tr>\n",
       "    <tr>\n",
       "      <th>2021-01-04</th>\n",
       "      <td>19.2</td>\n",
       "      <td>12</td>\n",
       "    </tr>\n",
       "    <tr>\n",
       "      <th>2021-01-05</th>\n",
       "      <td>14.1</td>\n",
       "      <td>13</td>\n",
       "    </tr>\n",
       "    <tr>\n",
       "      <th>2021-01-06</th>\n",
       "      <td>30.3</td>\n",
       "      <td>35</td>\n",
       "    </tr>\n",
       "  </tbody>\n",
       "</table>\n",
       "</div>"
      ],
      "text/plain": [
       "               Объем (м3)  ТЦ\n",
       "дата отгрузки                \n",
       "2021-01-02           46.2  50\n",
       "2021-01-03           47.6  37\n",
       "2021-01-04           19.2  12\n",
       "2021-01-05           14.1  13\n",
       "2021-01-06           30.3  35"
      ]
     },
     "execution_count": 102,
     "metadata": {},
     "output_type": "execute_result"
    }
   ],
   "source": [
    "n_df=pd.pivot_table(df,\n",
    "             index=[\"дата отгрузки\"],\n",
    "             values=[\"ТЦ\", \"Объем (м3)\"],\n",
    "             aggfunc={\"ТЦ\": len, \"Объем (м3)\": sum})\n",
    "n_df.head()"
   ]
  },
  {
   "cell_type": "code",
   "execution_count": 103,
   "metadata": {},
   "outputs": [],
   "source": [
    "import numpy as np\n",
    "import matplotlib.pyplot as plt\n",
    "import pandas as pd\n",
    "from sklearn.linear_model import LinearRegression\n",
    "from sklearn.model_selection import train_test_split\n",
    "from sklearn.discriminant_analysis import LinearDiscriminantAnalysis\n",
    "from sklearn.metrics import accuracy_score"
   ]
  },
  {
   "cell_type": "code",
   "execution_count": 104,
   "metadata": {},
   "outputs": [
    {
     "data": {
      "text/plain": [
       "<matplotlib.collections.PathCollection at 0x178035a9c40>"
      ]
     },
     "execution_count": 104,
     "metadata": {},
     "output_type": "execute_result"
    },
    {
     "data": {
      "image/png": "[encoded data removed]",
      "text/plain": [
       "<Figure size 432x288 with 1 Axes>"
      ]
     },
     "metadata": {
      "needs_background": "light"
     },
     "output_type": "display_data"
    }
   ],
   "source": [
    "plt.scatter(n_df['ТЦ'], n_df['Объем (м3)'])"
   ]
  },
  {
   "cell_type": "code",
   "execution_count": 105,
   "metadata": {},
   "outputs": [],
   "source": [
    "X = n_df.iloc[:, 1].values.reshape(-1, 1) \n",
    "Y = n_df.iloc[:, 0].values.reshape(-1, 1) \n",
    "linear_regressor = LinearRegression()\n",
    "linear_regressor.fit(X, Y)\n",
    "Y_pred = linear_regressor.predict(X)"
   ]
  },
  {
   "cell_type": "code",
   "execution_count": 106,
   "metadata": {},
   "outputs": [
    {
     "data": {
      "image/png": "[encoded data removed]",
      "text/plain": [
       "<Figure size 432x288 with 1 Axes>"
      ]
     },
     "metadata": {
      "needs_background": "light"
     },
     "output_type": "display_data"
    }
   ],
   "source": [
    "plt.scatter(X, Y)\n",
    "plt.plot(X, Y_pred, color='red')\n",
    "plt.show()"
   ]
  },
  {
   "cell_type": "code",
   "execution_count": 109,
   "metadata": {},
   "outputs": [
    {
     "data": {
      "text/plain": [
       "0.1978814264291452"
      ]
     },
     "execution_count": 109,
     "metadata": {},
     "output_type": "execute_result"
    }
   ],
   "source": [
    "r_sq = linear_regressor.score(X, Y)\n",
    "r_sq"
   ]
  },
  {
   "cell_type": "code",
   "execution_count": null,
   "metadata": {},
   "outputs": [],
   "source": []
  },
  {
   "cell_type": "code",
   "execution_count": null,
   "metadata": {},
   "outputs": [],
   "source": []
  },
  {
   "cell_type": "code",
   "execution_count": null,
   "metadata": {},
   "outputs": [],
   "source": []
  },
  {
   "cell_type": "code",
   "execution_count": null,
   "metadata": {},
   "outputs": [],
   "source": []
  }
 ],
 "metadata": {
  "kernelspec": {
   "display_name": "Python 3",
   "language": "python",
   "name": "python3"
  },
  "language_info": {
   "codemirror_mode": {
    "name": "ipython",
    "version": 3
   },
   "file_extension": ".py",
   "mimetype": "text/x-python",
   "name": "python",
   "nbconvert_exporter": "python",
   "pygments_lexer": "ipython3",
   "version": "3.8.5"
  }
 },
 "nbformat": 4,
 "nbformat_minor": 4
}
