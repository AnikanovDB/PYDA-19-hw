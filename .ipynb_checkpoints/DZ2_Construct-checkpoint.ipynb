{
 "cells": [
  {
   "cell_type": "code",
   "execution_count": 1,
   "metadata": {},
   "outputs": [],
   "source": [
    "# Задание 1\n",
    "# Дана переменная, в которой хранится слово из латинских букв. Напишите код, который выводит на экран:"
   ]
  },
  {
   "cell_type": "code",
   "execution_count": 59,
   "metadata": {},
   "outputs": [
    {
     "name": "stdout",
     "output_type": "stream",
     "text": [
      "e s\n"
     ]
    }
   ],
   "source": [
    "word = 'test'\n",
    "if len(word)%2==0:\n",
    "    print(word[int(len(word)/2-1)],word[int(len(word)/2)])\n",
    "elif len(word)%2!=0:\n",
    "    print(word[int(len(word)/2)])"
   ]
  },
  {
   "cell_type": "code",
   "execution_count": 52,
   "metadata": {},
   "outputs": [],
   "source": [
    "# Задание 2\n",
    "# Напишите программу, которая последовательно запрашивает у пользователя числа (по одному за раз) и после первого нуля\n",
    "# выводит сумму всех ранее введенных чисел."
   ]
  },
  {
   "cell_type": "code",
   "execution_count": 150,
   "metadata": {},
   "outputs": [
    {
     "name": "stdout",
     "output_type": "stream",
     "text": [
      "Введите число1\n",
      "Введите число4\n",
      "Введите число6\n",
      "Введите число0\n",
      "11\n"
     ]
    }
   ],
   "source": [
    "x = int(input('Введите число'))\n",
    "sumx = 0\n",
    "while x!=0:\n",
    "    sumx =sumx + x\n",
    "    x = int(input('Введите число'))\n",
    "    if x==0:\n",
    "        print(sumx)"
   ]
  },
  {
   "cell_type": "code",
   "execution_count": 80,
   "metadata": {},
   "outputs": [],
   "source": [
    "# Задание 3\n",
    "# Мы делаем MVP dating-сервиса, и у нас есть список парней и девушек.\n",
    "# Выдвигаем гипотезу: лучшие рекомендации мы получим, если просто отсортируем имена по алфавиту и \n",
    "# познакомим людей с одинаковыми индексами после сортировки! Но мы не будем никого знакомить, \n",
    "# если кто-то может остаться без пары:"
   ]
  },
  {
   "cell_type": "code",
   "execution_count": 118,
   "metadata": {},
   "outputs": [
    {
     "name": "stdout",
     "output_type": "stream",
     "text": [
      "Идеальные пары [('Alex', 'Emma'), ('Arthur', 'Kate'), ('John', 'Kira'), ('Peter', 'Liza'), ('Richard', 'Trisha')]\n"
     ]
    }
   ],
   "source": [
    "boys = ['Peter', 'Alex', 'John', 'Arthur', 'Richard']\n",
    "girls = ['Kate', 'Liza', 'Kira', 'Emma', 'Trisha']\n",
    "boys1 = sorted(boys)\n",
    "girls1 = sorted(girls)\n",
    "boys_by_girls = zip(boys1, girls1)\n",
    "if len(boys1) != len(girls1):\n",
    "    print('Внимание, кто-то может остаться без пары!')\n",
    "else:\n",
    "    print('Идеальные пары' , list(boys_by_girls))"
   ]
  },
  {
   "cell_type": "code",
   "execution_count": 121,
   "metadata": {},
   "outputs": [
    {
     "name": "stdout",
     "output_type": "stream",
     "text": [
      "Внимание, кто-то может остаться без пары!\n"
     ]
    }
   ],
   "source": [
    "boys = ['Peter', 'Alex', 'John', 'Arthur', 'Richard', 'Michael']\n",
    "girls = ['Kate', 'Liza', 'Kira', 'Emma', 'Trisha']\n",
    "boys1 = sorted(boys)\n",
    "girls1 = sorted(girls)\n",
    "boys_by_girls = zip(boys1, girls1)\n",
    "if len(boys1) != len(girls1):\n",
    "    print('Внимание, кто-то может остаться без пары!')\n",
    "else:\n",
    "    print('Идеальные пары' , list(boys_by_girls))"
   ]
  },
  {
   "cell_type": "code",
   "execution_count": 122,
   "metadata": {},
   "outputs": [],
   "source": [
    "# Задание 4\n",
    "# У нас есть список, содержащий информацию о среднедневной температуре в Фаренгейтах за произвольный период по странам \n",
    "# (структура данных в примере). Необходимо написать код, который рассчитает среднюю температуру за период в Цельсиях(!) \n",
    "# для каждой страны."
   ]
  },
  {
   "cell_type": "code",
   "execution_count": 29,
   "metadata": {},
   "outputs": [
    {
     "name": "stdout",
     "output_type": "stream",
     "text": [
      "Thailand 23.857142857142854\n",
      "Germany 13.799999999999997\n",
      "Russia 3.7142857142857166\n",
      "Poland 11.999999999999996\n"
     ]
    }
   ],
   "source": [
    "countries_temperature = [\n",
    "['Thailand', [75.2, 77, 78.8, 73.4, 68, 75.2, 77]],\n",
    "['Germany', [57.2, 55.4, 59, 59, 53.6]],\n",
    "['Russia', [35.6, 37.4, 39.2, 41, 42.8, 39.2, 35.6]],\n",
    "['Poland', [50, 50, 53.6, 57.2, 55.4, 55.4]]\n",
    "] \n",
    "for country in countries_temperature:\n",
    "    print(country[0], ((sum(country[1])/len(country[1]))-32)/1.8)"
   ]
  },
  {
   "cell_type": "code",
   "execution_count": 38,
   "metadata": {},
   "outputs": [],
   "source": [
    "# Задание 5 (необязательное)\n",
    "# Дан поток логов по количеству просмотренных страниц для каждого пользователя. \n",
    "# Вам необходимо написать алгоритм, который считает среднее значение просмотров на пользователя. \n",
    "# Т. е. надо посчитать отношение суммы всех просмотров к количеству уникальных пользователей."
   ]
  },
  {
   "cell_type": "code",
   "execution_count": 43,
   "metadata": {},
   "outputs": [
    {
     "name": "stdout",
     "output_type": "stream",
     "text": [
      "Cреднее значение просмотров на пользователя: 23.25\n"
     ]
    }
   ],
   "source": [
    "stream = [\n",
    "    '2018-01-01,user1,3',\n",
    "    '2018-01-07,user1,4',\n",
    "    '2018-03-29,user1,1',\n",
    "    '2018-04-04,user1,13',\n",
    "    '2018-01-05,user2,7',\n",
    "    '2018-06-14,user3,4',\n",
    "    '2018-07-02,user3,10',\n",
    "    '2018-03-21,user4,19',\n",
    "    '2018-03-22,user4,4',\n",
    "    '2018-04-22,user4,8',\n",
    "    '2018-05-03,user4,9',\n",
    "    '2018-05-11,user4,11',\n",
    "]\n",
    "cnt = 0\n",
    "users = []\n",
    "for vv in stream:\n",
    "    r = vv.split(',')\n",
    "    cnt = cnt + int(r[2])\n",
    "    if r[1] not in users:\n",
    "        users.append(r[1])\n",
    "print('Cреднее значение просмотров на пользователя:', cnt/len(users))"
   ]
  },
  {
   "cell_type": "code",
   "execution_count": 44,
   "metadata": {},
   "outputs": [
    {
     "name": "stdout",
     "output_type": "stream",
     "text": [
      "Cреднее значение просмотров на пользователя: 145.33333333333334\n"
     ]
    }
   ],
   "source": [
    "stream = [\n",
    "    '2018-01-01,user100,150',\n",
    "    '2018-01-07,user99,205',\n",
    "    '2018-03-29,user1001,81'\n",
    "]\n",
    "cnt = 0\n",
    "users = []\n",
    "for vv in stream:\n",
    "    r = vv.split(',')\n",
    "    cnt = cnt + int(r[2])\n",
    "    if r[1] not in users:\n",
    "        users.append(r[1])\n",
    "print('Cреднее значение просмотров на пользователя:', cnt/len(users))"
   ]
  },
  {
   "cell_type": "code",
   "execution_count": 46,
   "metadata": {},
   "outputs": [],
   "source": [
    "# Задание 6 (необязательное)\n",
    "# Необходимо у пользователя запрашивать набор чисел разделенных пробелом. \n",
    "# В результате должны выводиться числа, которые повторяются в вводе более одного раза."
   ]
  },
  {
   "cell_type": "code",
   "execution_count": 64,
   "metadata": {},
   "outputs": [
    {
     "name": "stdout",
     "output_type": "stream",
     "text": [
      "Введите числа5 5 5 5 66 88 75 99 75\n",
      "Результат 5\n",
      "Результат 75\n"
     ]
    }
   ],
   "source": [
    "x = input('Введите числа')\n",
    "chisla = x.split(' ')\n",
    "from collections import Counter\n",
    "for k,v in Counter(chisla).items():\n",
    "    if v>1:\n",
    "        print('Результат', k)"
   ]
  }
 ],
 "metadata": {
  "kernelspec": {
   "display_name": "Python 3",
   "language": "python",
   "name": "python3"
  },
  "language_info": {
   "codemirror_mode": {
    "name": "ipython",
    "version": 3
   },
   "file_extension": ".py",
   "mimetype": "text/x-python",
   "name": "python",
   "nbconvert_exporter": "python",
   "pygments_lexer": "ipython3",
   "version": "3.8.5"
  }
 },
 "nbformat": 4,
 "nbformat_minor": 4
}
