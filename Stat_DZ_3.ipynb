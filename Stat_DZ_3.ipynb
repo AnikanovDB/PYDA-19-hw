{
 "cells": [
  {
   "cell_type": "code",
   "execution_count": 1,
   "metadata": {},
   "outputs": [],
   "source": [
    "# Смоделировать игру против лотерейного автомата типа “777”. Игрок платит 1 руб., \n",
    "# после чего выпадает случайное целое число, равномерно распределенное от 0 до 999. \n",
    "# При некоторых значениях числа игрок получает выигрыш (см. справа)\n",
    "\n",
    "# Выгодна ли игра игроку?\n",
    "\n",
    "# Сколько в среднем приобретает\n",
    "# или теряет игрок за одну игру?\n",
    "\n",
    "# 777: 200 руб.\n",
    "# 999: 100 руб.\n",
    "# 555: 50 руб.\n",
    "# 333: 15 руб.\n",
    "# 111: 10 руб.\n",
    "# *77: 5 руб.\n",
    "# **7: 3 руб.\n",
    "# *00: 2 руб.\n",
    "# **0: 1 руб.\n",
    "\n",
    "# – любая цифра\n",
    "# Дополнительное задание повышенной сложности. Теоретически рассчитать средний выигрыш (проигрыш) и сравнить с \n",
    "# результатами моделирования"
   ]
  },
  {
   "cell_type": "code",
   "execution_count": 25,
   "metadata": {},
   "outputs": [
    {
     "name": "stdout",
     "output_type": "stream",
     "text": [
      "Выигрыш 77291 руб\n",
      "Попытки 100000 раз\n",
      "Затраты 100000 руб\n",
      "Выигрыш за одну игру  0.22709000000000001\n"
     ]
    }
   ],
   "source": [
    "import numpy as np\n",
    "try_ = 100000 \n",
    "prize = 0 \n",
    "for i in range(try_):\n",
    "    res = np.random.randint(0,1000)\n",
    "    if res == 777:\n",
    "        prize += 200\n",
    "    elif res == 999:\n",
    "        prize += 100\n",
    "    elif res == 555:\n",
    "        prize += 50\n",
    "    elif res == 333:\n",
    "        prize += 15\n",
    "    elif res == 111:\n",
    "        prize += 10\n",
    "    elif res % 100 == 77:\n",
    "        prize += 5\n",
    "    elif res % 10 == 7:\n",
    "        prize += 3\n",
    "    elif res % 100 == 0:\n",
    "        prize += 2\n",
    "    elif res % 10 == 0:\n",
    "        prize +=1\n",
    "print(\"Выигрыш\", prize, \"руб\")\n",
    "print(\"Попытки\", try_ , \"раз\")\n",
    "print(\"Затраты\", try_ , \"руб\" )\n",
    "print(\"Выигрыш за одну игру \", 1 -prize/try_)"
   ]
  },
  {
   "cell_type": "markdown",
   "metadata": {},
   "source": [
    "При затратах 1 рубль, выигрыш около 20 копеек, значит за каждую игру игрок теряет примерно 80 копеек. Вывод - Игра игроку не выгодна."
   ]
  }
 ],
 "metadata": {
  "kernelspec": {
   "display_name": "Python 3",
   "language": "python",
   "name": "python3"
  },
  "language_info": {
   "codemirror_mode": {
    "name": "ipython",
    "version": 3
   },
   "file_extension": ".py",
   "mimetype": "text/x-python",
   "name": "python",
   "nbconvert_exporter": "python",
   "pygments_lexer": "ipython3",
   "version": "3.8.5"
  }
 },
 "nbformat": 4,
 "nbformat_minor": 4
}
